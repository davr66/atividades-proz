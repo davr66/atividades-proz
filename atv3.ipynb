{
  "nbformat": 4,
  "nbformat_minor": 0,
  "metadata": {
    "colab": {
      "provenance": [],
      "authorship_tag": "ABX9TyOFBPdbA4gOMa7rBKU6lyoz",
      "include_colab_link": true
    },
    "kernelspec": {
      "name": "python3",
      "display_name": "Python 3"
    },
    "language_info": {
      "name": "python"
    }
  },
  "cells": [
    {
      "cell_type": "markdown",
      "metadata": {
        "id": "view-in-github",
        "colab_type": "text"
      },
      "source": [
        "<a href=\"https://colab.research.google.com/github/davr66/atividades-proz/blob/master/atv3.ipynb\" target=\"_parent\"><img src=\"https://colab.research.google.com/assets/colab-badge.svg\" alt=\"Open In Colab\"/></a>"
      ]
    },
    {
      "cell_type": "markdown",
      "source": [
        "# Instruções da Atividade\n",
        "Faça uma função calculadora que os números e as operações serão feitas pelo usuário. O código deve ficar rodando infinitamente até que o usuário escolha a opção de sair. No início, o programa mostrará a seguinte lista de operações:\n",
        "\n",
        "1: Soma\n",
        "2: Subtração\n",
        "3: Multiplicação\n",
        "4: Divisão\n",
        "0: Sair\n",
        "\n",
        "Digite o número para a operação correspondente e caso o usuário introduza qualquer outro, o sistema deve mostrar a mensagem “Essa opção não existe” e voltar ao menu de opções.\n",
        "\n",
        "Após a seleção, o sistema deve pedir para o usuário inserir o primeiro e segundo valor, um de cada. Depois precisa executar a operação e mostrar o resultado na tela. Quando o usuário escolher a opção “Sair”, o sistema irá parar.\n",
        "\n",
        "É necessário que o sistema mostre as opções sempre que finalizar uma operação e mostrar o resultado."
      ],
      "metadata": {
        "id": "IMfIF46QCx8F"
      }
    },
    {
      "cell_type": "code",
      "source": [
        "def calcular(num1,num2,operacao):\n",
        "    match operacao:\n",
        "        case 1:\n",
        "            return num1 + num2\n",
        "        case 2:\n",
        "            return num1 - num2\n",
        "        case 3:\n",
        "            return num1 * num2\n",
        "        case 4:\n",
        "            return num1 / num2\n",
        "        case _:\n",
        "            return 0\n",
        "\n",
        "executar = True\n",
        "\n",
        "while(executar):\n",
        "  print(\"O programa exectuta as seguintes operações \\n 1: Soma \\n 2: Subtração \\n 3: Multiplicação \\n 4: Divisão \\n 0: Sair\")\n",
        "  operacao = int(input(\"Digite a operação a ser realizada: \"))\n",
        "  if(operacao < 0 or operacao > 4):\n",
        "    print(\"Essa operação não existe\")\n",
        "  elif(operacao == 0):\n",
        "    executar = False\n",
        "  else:\n",
        "    num1 = int(input(\"Digite o primeiro valor: \"))\n",
        "    num2 = int(input(\"Digite o segundo valor: \"))\n",
        "    res = calcular(num1,num2,operacao)\n",
        "    print(\"O resultado é\",res)\n",
        "\n",
        "\n",
        "\n",
        "print('Sistema encerrado')"
      ],
      "metadata": {
        "collapsed": true,
        "id": "_Fic_54jDFSU"
      },
      "execution_count": null,
      "outputs": []
    },
    {
      "cell_type": "code",
      "source": [],
      "metadata": {
        "id": "SdvthcKmHRZp"
      },
      "execution_count": null,
      "outputs": []
    }
  ]
}