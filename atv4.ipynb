{
  "nbformat": 4,
  "nbformat_minor": 0,
  "metadata": {
    "colab": {
      "provenance": [],
      "authorship_tag": "ABX9TyM1GkyWI7cm0YymUIHXdnK5",
      "include_colab_link": true
    },
    "kernelspec": {
      "name": "python3",
      "display_name": "Python 3"
    },
    "language_info": {
      "name": "python"
    }
  },
  "cells": [
    {
      "cell_type": "markdown",
      "metadata": {
        "id": "view-in-github",
        "colab_type": "text"
      },
      "source": [
        "<a href=\"https://colab.research.google.com/github/davr66/atividades-proz/blob/master/atv4.ipynb\" target=\"_parent\"><img src=\"https://colab.research.google.com/assets/colab-badge.svg\" alt=\"Open In Colab\"/></a>"
      ]
    },
    {
      "cell_type": "markdown",
      "source": [
        "# Instruções da atividade\n",
        "Desenvolva um programa que recebe do usuário nome completo e ano de nascimento que seja entre 1922 e 2021.\n",
        "A partir dessas informações, o sistema mostrará o nome do usuário e a idade que completou, ou completará, no ano atual (2022).\n",
        "\n",
        "Caso o usuário não digite um número ou apareça um inválido no campo do ano, o sistema informará o erro e continuará perguntando até que um valor correto seja preenchido."
      ],
      "metadata": {
        "id": "fDK3EpX0kTxK"
      }
    },
    {
      "cell_type": "code",
      "source": [
        "executar = True\n",
        "\n",
        "while(executar):\n",
        "  try:\n",
        "    nome_completo = input(\"Digite seu nome completo: \")\n",
        "    ano_nasc = int(input(\"Digite seu ano de nascimento (entre 1922 e 2021): \"))\n",
        "    ano_atual = 2022\n",
        "\n",
        "    if(ano_nasc < 1922 or ano_nasc > 2021):\n",
        "      print(\"Ano de nascimento inválido\")\n",
        "    else:\n",
        "      idade = ano_atual - ano_nasc\n",
        "      print(\"Seu nome é \",nome_completo,\" e a idade que você completou (ou completará) nesse ano (2022) é de \",idade,\" anos\")\n",
        "      executar = False\n",
        "  except:\n",
        "    print(\"ERRO - Digite um número no ano de nascimento\")\n",
        "\n",
        "\n"
      ],
      "metadata": {
        "id": "wWLbEzc3kWAN"
      },
      "execution_count": null,
      "outputs": []
    }
  ]
}